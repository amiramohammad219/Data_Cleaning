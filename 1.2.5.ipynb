{
 "cells": [
  {
   "cell_type": "code",
   "execution_count": 1,
   "metadata": {},
   "outputs": [],
   "source": [
    "from sklearn.impute import SimpleImputer"
   ]
  },
  {
   "cell_type": "code",
   "execution_count": 2,
   "metadata": {},
   "outputs": [],
   "source": [
    "# create our data frame \n",
    "data = [[1,2,0],\n",
    "        [3,0,1],\n",
    "        [5,0,0],\n",
    "        [0,4,6],\n",
    "        [5,0,0],\n",
    "        [4,5,5]]\n"
   ]
  },
  {
   "cell_type": "code",
   "execution_count": 3,
   "metadata": {},
   "outputs": [],
   "source": [
    "# apply SimpleImputer to remove zero values\n",
    "imputed=SimpleImputer(missing_values=0,strategy='mean')\n",
    "imp=imputed.fit(data)\n",
    "imputed_data=imp.transform(data)\n"
   ]
  },
  {
   "cell_type": "code",
   "execution_count": 5,
   "metadata": {},
   "outputs": [
    {
     "name": "stdout",
     "output_type": "stream",
     "text": [
      "[[1.         2.         4.        ]\n",
      " [3.         3.66666667 1.        ]\n",
      " [5.         3.66666667 4.        ]\n",
      " [3.6        4.         6.        ]\n",
      " [5.         3.66666667 4.        ]\n",
      " [4.         5.         5.        ]]\n"
     ]
    }
   ],
   "source": [
    "#print the modified data\n",
    "print(imputed_data)"
   ]
  },
  {
   "cell_type": "code",
   "execution_count": 6,
   "metadata": {},
   "outputs": [],
   "source": [
    "#store our new data frame\n",
    "data=imputed_data"
   ]
  },
  {
   "cell_type": "code",
   "execution_count": 8,
   "metadata": {},
   "outputs": [
    {
     "name": "stdout",
     "output_type": "stream",
     "text": [
      "[[1.         2.         4.        ]\n",
      " [3.         3.66666667 1.        ]\n",
      " [5.         3.66666667 4.        ]\n",
      " [3.6        4.         6.        ]\n",
      " [5.         3.66666667 4.        ]\n",
      " [4.         5.         5.        ]]\n"
     ]
    }
   ],
   "source": [
    "# print the data after modification\n",
    "print(data)"
   ]
  },
  {
   "cell_type": "code",
   "execution_count": null,
   "metadata": {},
   "outputs": [],
   "source": []
  }
 ],
 "metadata": {
  "kernelspec": {
   "display_name": ".venv",
   "language": "python",
   "name": "python3"
  },
  "language_info": {
   "codemirror_mode": {
    "name": "ipython",
    "version": 3
   },
   "file_extension": ".py",
   "mimetype": "text/x-python",
   "name": "python",
   "nbconvert_exporter": "python",
   "pygments_lexer": "ipython3",
   "version": "3.12.2"
  }
 },
 "nbformat": 4,
 "nbformat_minor": 2
}
