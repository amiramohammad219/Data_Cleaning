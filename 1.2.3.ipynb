{
 "cells": [
  {
   "cell_type": "code",
   "execution_count": 1,
   "metadata": {},
   "outputs": [],
   "source": [
    "# import libraries\n",
    "import numpy as np\n",
    "from sklearn.impute import SimpleImputer\n"
   ]
  },
  {
   "cell_type": "code",
   "execution_count": 2,
   "metadata": {},
   "outputs": [],
   "source": [
    "#create our dataframe\n",
    "data=[[1,2,np.nan],\n",
    "      [3,2,np.nan],\n",
    "      [1,2,3],\n",
    "      [4,4,5],\n",
    "      [7,9,567],\n",
    "      [7,np.nan,4],\n",
    "      [4,5,np.nan],     \n",
    "      ]"
   ]
  },
  {
   "cell_type": "code",
   "execution_count": 11,
   "metadata": {},
   "outputs": [],
   "source": [
    "# apply SimpleImputer to remove nan values\n",
    "imputed=SimpleImputer(missing_values=np.nan,strategy='mean')\n",
    "imp=imputed.fit(data)\n",
    "imputed_data=imp.transform(data)"
   ]
  },
  {
   "cell_type": "code",
   "execution_count": 12,
   "metadata": {},
   "outputs": [
    {
     "name": "stdout",
     "output_type": "stream",
     "text": [
      "[[  1.     2.   144.75]\n",
      " [  3.     2.   144.75]\n",
      " [  1.     2.     3.  ]\n",
      " [  4.     4.     5.  ]\n",
      " [  7.     9.   567.  ]\n",
      " [  7.     4.     4.  ]\n",
      " [  4.     5.   144.75]]\n"
     ]
    }
   ],
   "source": [
    "#print the modifieddata\n",
    "print(imputed_data)"
   ]
  },
  {
   "cell_type": "code",
   "execution_count": 13,
   "metadata": {},
   "outputs": [],
   "source": [
    "\n",
    "#store our new data frame\n",
    "data=imputed_data"
   ]
  },
  {
   "cell_type": "code",
   "execution_count": 14,
   "metadata": {},
   "outputs": [
    {
     "name": "stdout",
     "output_type": "stream",
     "text": [
      "[[  1.     2.   144.75]\n",
      " [  3.     2.   144.75]\n",
      " [  1.     2.     3.  ]\n",
      " [  4.     4.     5.  ]\n",
      " [  7.     9.   567.  ]\n",
      " [  7.     4.     4.  ]\n",
      " [  4.     5.   144.75]]\n"
     ]
    }
   ],
   "source": [
    "# print the data after modification\n",
    "print(data)"
   ]
  },
  {
   "cell_type": "code",
   "execution_count": null,
   "metadata": {},
   "outputs": [],
   "source": []
  }
 ],
 "metadata": {
  "kernelspec": {
   "display_name": ".venv",
   "language": "python",
   "name": "python3"
  },
  "language_info": {
   "codemirror_mode": {
    "name": "ipython",
    "version": 3
   },
   "file_extension": ".py",
   "mimetype": "text/x-python",
   "name": "python",
   "nbconvert_exporter": "python",
   "pygments_lexer": "ipython3",
   "version": "3.12.2"
  }
 },
 "nbformat": 4,
 "nbformat_minor": 2
}
