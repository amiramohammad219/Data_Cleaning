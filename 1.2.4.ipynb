{
 "cells": [
  {
   "cell_type": "code",
   "execution_count": 1,
   "metadata": {},
   "outputs": [],
   "source": [
    "import numpy as np\n",
    "from sklearn.impute import SimpleImputer\n"
   ]
  },
  {
   "cell_type": "code",
   "execution_count": 2,
   "metadata": {},
   "outputs": [],
   "source": [
    "# create a dataframe to work with\n",
    "data=[[1,2,np.nan],\n",
    "        [3,np.nan,1],\n",
    "        [5,np.nan,0],\n",
    "        [np.nan,4,6 ],\n",
    "        [5,0,np.nan],\n",
    "        [4,5,5]]"
   ]
  },
  {
   "cell_type": "code",
   "execution_count": 3,
   "metadata": {},
   "outputs": [],
   "source": [
    "# apply SimpleImputer to remove nan values\n",
    "imputed=SimpleImputer(missing_values=np.nan, strategy='median')\n",
    "imp=imputed.fit(data)\n",
    "imputed_data=imp.transform(data)"
   ]
  },
  {
   "cell_type": "code",
   "execution_count": 4,
   "metadata": {},
   "outputs": [
    {
     "name": "stdout",
     "output_type": "stream",
     "text": [
      "[[1. 2. 3.]\n",
      " [3. 3. 1.]\n",
      " [5. 3. 0.]\n",
      " [4. 4. 6.]\n",
      " [5. 0. 3.]\n",
      " [4. 5. 5.]]\n"
     ]
    }
   ],
   "source": [
    "#print the modified data\n",
    "print(imputed_data)"
   ]
  },
  {
   "cell_type": "code",
   "execution_count": 5,
   "metadata": {},
   "outputs": [],
   "source": [
    "#store our new data frame\n",
    "data=imputed_data"
   ]
  },
  {
   "cell_type": "code",
   "execution_count": 6,
   "metadata": {},
   "outputs": [
    {
     "name": "stdout",
     "output_type": "stream",
     "text": [
      "[[1. 2. 3.]\n",
      " [3. 3. 1.]\n",
      " [5. 3. 0.]\n",
      " [4. 4. 6.]\n",
      " [5. 0. 3.]\n",
      " [4. 5. 5.]]\n"
     ]
    }
   ],
   "source": [
    "# print the data after modification\n",
    "print (data)"
   ]
  }
 ],
 "metadata": {
  "kernelspec": {
   "display_name": ".venv",
   "language": "python",
   "name": "python3"
  },
  "language_info": {
   "codemirror_mode": {
    "name": "ipython",
    "version": 3
   },
   "file_extension": ".py",
   "mimetype": "text/x-python",
   "name": "python",
   "nbconvert_exporter": "python",
   "pygments_lexer": "ipython3",
   "version": "3.12.2"
  }
 },
 "nbformat": 4,
 "nbformat_minor": 2
}
